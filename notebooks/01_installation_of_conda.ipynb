{
 "cells": [
  {
   "cell_type": "markdown",
   "metadata": {
    "id": "xYov2NU6KC-d"
   },
   "source": [
    "# Install the mini-conda and use it to install diffpy-cmi"
   ]
  },
  {
   "cell_type": "code",
   "execution_count": null,
   "metadata": {
    "colab": {
     "base_uri": "https://localhost:8080/"
    },
    "id": "CA1_gAQs0Eqh",
    "outputId": "e34d5bbe-45cb-4dec-9102-1626e823bbea"
   },
   "outputs": [],
   "source": [
    "!echo $PYTHONPATH"
   ]
  },
  {
   "cell_type": "code",
   "execution_count": null,
   "metadata": {
    "colab": {
     "base_uri": "https://localhost:8080/"
    },
    "id": "4oPkygHQ3tNv",
    "outputId": "c8fd1fc1-95e4-4d87-bd08-ea35f80753f4"
   },
   "outputs": [],
   "source": [
    "%env PYTHONPATH="
   ]
  },
  {
   "cell_type": "code",
   "execution_count": null,
   "metadata": {
    "colab": {
     "base_uri": "https://localhost:8080/"
    },
    "id": "Ixlc1iNx3uvj",
    "outputId": "6c345940-4f23-49a7-e7d7-1db6b78ebf37"
   },
   "outputs": [],
   "source": [
    "%%bash\n",
    "MINICONDA_INSTALLER_SCRIPT=Miniconda3-latest-Linux-x86_64.sh\n",
    "MINICONDA_PREFIX=/usr/local\n",
    "wget https://repo.continuum.io/miniconda/$MINICONDA_INSTALLER_SCRIPT\n",
    "chmod +x $MINICONDA_INSTALLER_SCRIPT\n",
    "./$MINICONDA_INSTALLER_SCRIPT -b -f -p $MINICONDA_PREFIX"
   ]
  },
  {
   "cell_type": "code",
   "execution_count": null,
   "metadata": {
    "colab": {
     "base_uri": "https://localhost:8080/"
    },
    "id": "hW3z5zY93xE1",
    "outputId": "5c4941b2-1649-4b06-c571-cb8b10d1cf2f"
   },
   "outputs": [],
   "source": [
    "!which conda"
   ]
  },
  {
   "cell_type": "code",
   "execution_count": null,
   "metadata": {
    "colab": {
     "base_uri": "https://localhost:8080/"
    },
    "id": "AQJKskW04wr5",
    "outputId": "c1ef5641-01d5-4e8b-f7d1-9097eb09ed6b"
   },
   "outputs": [],
   "source": [
    "!conda --version"
   ]
  },
  {
   "cell_type": "code",
   "execution_count": null,
   "metadata": {
    "colab": {
     "base_uri": "https://localhost:8080/"
    },
    "id": "vBEmiN8p412H",
    "outputId": "1d83b49d-182b-48e1-e9bb-93a786553f06"
   },
   "outputs": [],
   "source": [
    "!conda create -n diffpy -c defaults -c diffpy python=3.7 diffpy-cmi pandas --yes"
   ]
  },
  {
   "cell_type": "code",
   "execution_count": null,
   "metadata": {
    "colab": {
     "base_uri": "https://localhost:8080/"
    },
    "id": "lwH57wW9HH4W",
    "outputId": "85c483b6-e711-4c1d-f76f-2032bcc6448e"
   },
   "outputs": [],
   "source": [
    "!conda env list"
   ]
  },
  {
   "cell_type": "markdown",
   "metadata": {
    "id": "iKYzx1nILbhH"
   },
   "source": [
    "# Configure the python to recognize the diffpy library"
   ]
  },
  {
   "cell_type": "code",
   "execution_count": null,
   "metadata": {
    "colab": {
     "base_uri": "https://localhost:8080/"
    },
    "id": "6LWU5QdWM6YG",
    "outputId": "f50935f5-777c-4898-d478-b626cf43fa1c"
   },
   "outputs": [],
   "source": [
    "!ls /usr/local/envs/diffpy/lib/python3.7/site-packages/diffpy*"
   ]
  },
  {
   "cell_type": "code",
   "execution_count": null,
   "metadata": {
    "id": "grKnRbacNobG"
   },
   "outputs": [],
   "source": [
    "!cp -r /usr/local/envs/diffpy/lib/python3.7/site-packages/diffpy.srfit-3.0.0-py3.7.egg/diffpy/* /usr/local/envs/diffpy/lib/python3.7/site-packages/diffpy/"
   ]
  },
  {
   "cell_type": "code",
   "execution_count": null,
   "metadata": {
    "id": "5SShgIYtODBC"
   },
   "outputs": [],
   "source": [
    "!cp -r /usr/local/envs/diffpy/lib/python3.7/site-packages/diffpy.structure-3.0.1-py3.7.egg/diffpy/* /usr/local/envs/diffpy/lib/python3.7/site-packages/diffpy/"
   ]
  },
  {
   "cell_type": "code",
   "execution_count": null,
   "metadata": {
    "id": "3qlo6hC8ODhJ"
   },
   "outputs": [],
   "source": [
    "!cp -r /usr/local/envs/diffpy/lib/python3.7/site-packages/diffpy.utils-3.0.0-py3.7.egg/diffpy/* /usr/local/envs/diffpy/lib/python3.7/site-packages/diffpy/"
   ]
  },
  {
   "cell_type": "code",
   "execution_count": null,
   "metadata": {
    "id": "JWZZrgn-LldD"
   },
   "outputs": [],
   "source": [
    "import sys"
   ]
  },
  {
   "cell_type": "code",
   "execution_count": null,
   "metadata": {
    "id": "GbYoee5rLuvr"
   },
   "outputs": [],
   "source": [
    "sys.path.insert(1, \"/usr/local/envs/diffpy/lib/python3.7/site-packages\")"
   ]
  },
  {
   "cell_type": "markdown",
   "metadata": {
    "id": "1svDEhF_OW4q"
   },
   "source": [
    "# Test if we can import diffpy"
   ]
  },
  {
   "cell_type": "code",
   "execution_count": null,
   "metadata": {
    "id": "NfeaUpewOVDp"
   },
   "outputs": [],
   "source": [
    "import diffpy.srfit\n",
    "import diffpy.srreal\n",
    "import diffpy.structure\n",
    "import diffpy.utils"
   ]
  },
  {
   "cell_type": "markdown",
   "metadata": {
    "id": "LONk1ETiQujE"
   },
   "source": [
    "# Download the example data from github"
   ]
  },
  {
   "cell_type": "code",
   "execution_count": null,
   "metadata": {
    "colab": {
     "base_uri": "https://localhost:8080/"
    },
    "id": "dYx2X7k1Ojna",
    "outputId": "bab971f1-11ad-46e2-a8ed-97c05509f4ee"
   },
   "outputs": [],
   "source": [
    "!git clone https://github.com/st3107/20210818_iucr_diffpy_talk.git"
   ]
  },
  {
   "cell_type": "code",
   "execution_count": null,
   "metadata": {
    "id": "4auBq5ERRWfe"
   },
   "outputs": [],
   "source": [
    "!cp -r ./20210818_iucr_diffpy_talk/notebooks/colab_data ./data"
   ]
  },
  {
   "cell_type": "code",
   "execution_count": null,
   "metadata": {
    "colab": {
     "base_uri": "https://localhost:8080/"
    },
    "id": "J1hMOqRrRf9K",
    "outputId": "f232ddc6-6b99-4941-c11c-1084d8807703"
   },
   "outputs": [],
   "source": [
    "!ls ./data"
   ]
  },
  {
   "cell_type": "code",
   "execution_count": null,
   "metadata": {
    "id": "S9y6CP_NRicK"
   },
   "outputs": [],
   "source": []
  }
 ],
 "metadata": {
  "colab": {
   "collapsed_sections": [],
   "name": "Installation_of_conda.ipynb",
   "provenance": [],
   "toc_visible": true
  },
  "kernelspec": {
   "display_name": "Python 3",
   "language": "python",
   "name": "python3"
  },
  "language_info": {
   "codemirror_mode": {
    "name": "ipython",
    "version": 3
   },
   "file_extension": ".py",
   "mimetype": "text/x-python",
   "name": "python",
   "nbconvert_exporter": "python",
   "pygments_lexer": "ipython3",
   "version": "3.7.10"
  }
 },
 "nbformat": 4,
 "nbformat_minor": 4
}
